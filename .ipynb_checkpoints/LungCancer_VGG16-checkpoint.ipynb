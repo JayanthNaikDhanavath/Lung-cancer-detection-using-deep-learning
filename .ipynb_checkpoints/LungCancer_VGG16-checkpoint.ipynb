{
 "cells": [
  {
   "cell_type": "code",
   "execution_count": 1,
   "id": "e12c8d2c",
   "metadata": {},
   "outputs": [],
   "source": [
    "import pandas as pd\n",
    "import numpy as np\n",
    "import matplotlib.pyplot as plt\n",
    "\n",
    "import tensorflow \n",
    "from tensorflow import keras\n",
    "from keras import models,layers,optimizers"
   ]
  },
  {
   "cell_type": "code",
   "execution_count": 2,
   "id": "97934f84",
   "metadata": {},
   "outputs": [],
   "source": [
    "train_dir = r'C:\\Users\\pavan\\ML Projects\\Alzheimer\\dataset_aug\\train'\n",
    "validation_dir = r'C:\\Users\\pavan\\ML Projects\\Alzheimer\\dataset_aug\\val'"
   ]
  },
  {
   "cell_type": "code",
   "execution_count": 3,
   "id": "40f3c280",
   "metadata": {},
   "outputs": [],
   "source": [
    "from tensorflow.keras.preprocessing.image import ImageDataGenerator"
   ]
  },
  {
   "cell_type": "code",
   "execution_count": 4,
   "id": "b85efae9",
   "metadata": {},
   "outputs": [],
   "source": [
    "train_datagen = ImageDataGenerator(\n",
    "    rescale = 1./255,\n",
    "   )\n",
    "validation_datagen = ImageDataGenerator(rescale = 1./255)"
   ]
  },
  {
   "cell_type": "code",
   "execution_count": 5,
   "id": "32798dac",
   "metadata": {},
   "outputs": [
    {
     "name": "stdout",
     "output_type": "stream",
     "text": [
      "Found 33984 images belonging to 4 classes.\n",
      "Found 6400 images belonging to 4 classes.\n"
     ]
    }
   ],
   "source": [
    "train_generator = train_datagen.flow_from_directory(\n",
    "        train_dir,\n",
    "        target_size = (256,256),\n",
    "        batch_size = 32,\n",
    "        class_mode = 'binary'\n",
    ")\n",
    "\n",
    "validation_generator = validation_datagen.flow_from_directory(\n",
    "        validation_dir,\n",
    "        batch_size = 32,\n",
    "        target_size = (256,256),\n",
    "        class_mode = 'binary'\n",
    ")"
   ]
  },
  {
   "cell_type": "code",
   "execution_count": 6,
   "id": "35efabba",
   "metadata": {},
   "outputs": [],
   "source": [
    "from tensorflow.keras.applications import VGG16\n",
    "\n",
    "conv_base = VGG16(weights = 'imagenet',include_top = False,input_shape = (256,256,3))"
   ]
  },
  {
   "cell_type": "code",
   "execution_count": 7,
   "id": "d2e92bdb",
   "metadata": {},
   "outputs": [
    {
     "name": "stdout",
     "output_type": "stream",
     "text": [
      "Model: \"vgg16\"\n",
      "_________________________________________________________________\n",
      " Layer (type)                Output Shape              Param #   \n",
      "=================================================================\n",
      " input_1 (InputLayer)        [(None, 256, 256, 3)]     0         \n",
      "                                                                 \n",
      " block1_conv1 (Conv2D)       (None, 256, 256, 64)      1792      \n",
      "                                                                 \n",
      " block1_conv2 (Conv2D)       (None, 256, 256, 64)      36928     \n",
      "                                                                 \n",
      " block1_pool (MaxPooling2D)  (None, 128, 128, 64)      0         \n",
      "                                                                 \n",
      " block2_conv1 (Conv2D)       (None, 128, 128, 128)     73856     \n",
      "                                                                 \n",
      " block2_conv2 (Conv2D)       (None, 128, 128, 128)     147584    \n",
      "                                                                 \n",
      " block2_pool (MaxPooling2D)  (None, 64, 64, 128)       0         \n",
      "                                                                 \n",
      " block3_conv1 (Conv2D)       (None, 64, 64, 256)       295168    \n",
      "                                                                 \n",
      " block3_conv2 (Conv2D)       (None, 64, 64, 256)       590080    \n",
      "                                                                 \n",
      " block3_conv3 (Conv2D)       (None, 64, 64, 256)       590080    \n",
      "                                                                 \n",
      " block3_pool (MaxPooling2D)  (None, 32, 32, 256)       0         \n",
      "                                                                 \n",
      " block4_conv1 (Conv2D)       (None, 32, 32, 512)       1180160   \n",
      "                                                                 \n",
      " block4_conv2 (Conv2D)       (None, 32, 32, 512)       2359808   \n",
      "                                                                 \n",
      " block4_conv3 (Conv2D)       (None, 32, 32, 512)       2359808   \n",
      "                                                                 \n",
      " block4_pool (MaxPooling2D)  (None, 16, 16, 512)       0         \n",
      "                                                                 \n",
      " block5_conv1 (Conv2D)       (None, 16, 16, 512)       2359808   \n",
      "                                                                 \n",
      " block5_conv2 (Conv2D)       (None, 16, 16, 512)       2359808   \n",
      "                                                                 \n",
      " block5_conv3 (Conv2D)       (None, 16, 16, 512)       2359808   \n",
      "                                                                 \n",
      " block5_pool (MaxPooling2D)  (None, 8, 8, 512)         0         \n",
      "                                                                 \n",
      "=================================================================\n",
      "Total params: 14,714,688\n",
      "Trainable params: 14,714,688\n",
      "Non-trainable params: 0\n",
      "_________________________________________________________________\n"
     ]
    }
   ],
   "source": [
    "conv_base.summary()"
   ]
  },
  {
   "cell_type": "code",
   "execution_count": 8,
   "id": "37a249a5",
   "metadata": {},
   "outputs": [],
   "source": [
    "model = models.Sequential()\n",
    "\n",
    "model.add(conv_base)\n",
    "\n",
    "model.add(layers.Flatten())\n",
    "model.add(layers.Dense(300,activation = 'relu'))\n",
    "model.add(layers.Dense(4,activation = 'sigmoid'))"
   ]
  },
  {
   "cell_type": "code",
   "execution_count": 9,
   "id": "eb3d2568",
   "metadata": {},
   "outputs": [
    {
     "name": "stdout",
     "output_type": "stream",
     "text": [
      "Model: \"sequential\"\n",
      "_________________________________________________________________\n",
      " Layer (type)                Output Shape              Param #   \n",
      "=================================================================\n",
      " vgg16 (Functional)          (None, 8, 8, 512)         14714688  \n",
      "                                                                 \n",
      " flatten (Flatten)           (None, 32768)             0         \n",
      "                                                                 \n",
      " dense (Dense)               (None, 300)               9830700   \n",
      "                                                                 \n",
      " dense_1 (Dense)             (None, 4)                 1204      \n",
      "                                                                 \n",
      "=================================================================\n",
      "Total params: 24,546,592\n",
      "Trainable params: 24,546,592\n",
      "Non-trainable params: 0\n",
      "_________________________________________________________________\n"
     ]
    }
   ],
   "source": [
    "model.build(input_shape = (None,256,256,3))\n",
    "model.summary()"
   ]
  },
  {
   "cell_type": "code",
   "execution_count": 10,
   "id": "8d0b67d3",
   "metadata": {},
   "outputs": [],
   "source": [
    "conv_base.trainable = False"
   ]
  },
  {
   "cell_type": "code",
   "execution_count": 11,
   "id": "2200ccf4",
   "metadata": {},
   "outputs": [],
   "source": [
    "model.compile(loss = 'sparse_categorical_crossentropy',optimizer = 'adam', metrics = ['acc'])"
   ]
  },
  {
   "cell_type": "code",
   "execution_count": 12,
   "id": "44092ff1",
   "metadata": {},
   "outputs": [],
   "source": [
    "train_size = len(train_generator)\n",
    "val_size = len(validation_generator)"
   ]
  },
  {
   "cell_type": "code",
   "execution_count": 14,
   "id": "1b8f05f6",
   "metadata": {},
   "outputs": [
    {
     "name": "stdout",
     "output_type": "stream",
     "text": [
      "Epoch 1/10\n",
      "1062/1062 [==============================] - 459s 432ms/step - loss: 0.6512 - acc: 0.7548 - val_loss: 0.9108 - val_acc: 0.6094\n",
      "Epoch 2/10\n",
      "1062/1062 [==============================] - 510s 480ms/step - loss: 0.2998 - acc: 0.8809 - val_loss: 0.4016 - val_acc: 0.8120\n",
      "Epoch 3/10\n",
      "1062/1062 [==============================] - 524s 493ms/step - loss: 0.2157 - acc: 0.9163 - val_loss: 1.3054 - val_acc: 0.6553\n",
      "Epoch 4/10\n",
      "1062/1062 [==============================] - 530s 499ms/step - loss: 0.1584 - acc: 0.9401 - val_loss: 0.1439 - val_acc: 0.9463\n",
      "Epoch 5/10\n",
      "1062/1062 [==============================] - 535s 504ms/step - loss: 0.1279 - acc: 0.9515 - val_loss: 0.0890 - val_acc: 0.9677\n",
      "Epoch 6/10\n",
      "1062/1062 [==============================] - 540s 508ms/step - loss: 0.1196 - acc: 0.9570 - val_loss: 0.0737 - val_acc: 0.9787\n",
      "Epoch 7/10\n",
      "1062/1062 [==============================] - 543s 512ms/step - loss: 0.1063 - acc: 0.9605 - val_loss: 0.1546 - val_acc: 0.9400\n",
      "Epoch 8/10\n",
      "1062/1062 [==============================] - 543s 512ms/step - loss: 0.0730 - acc: 0.9731 - val_loss: 0.0793 - val_acc: 0.9712\n",
      "Epoch 9/10\n",
      "1062/1062 [==============================] - 543s 511ms/step - loss: 0.0637 - acc: 0.9772 - val_loss: 0.0560 - val_acc: 0.9805\n",
      "Epoch 10/10\n",
      "1062/1062 [==============================] - 547s 515ms/step - loss: 0.0694 - acc: 0.9750 - val_loss: 0.0441 - val_acc: 0.9853\n"
     ]
    }
   ],
   "source": [
    "history = model.fit(\n",
    "    train_generator,\n",
    "    steps_per_epoch = train_size,\n",
    "    epochs = 10,\n",
    "    validation_data = validation_generator,\n",
    "    validation_steps = val_size\n",
    ")"
   ]
  },
  {
   "cell_type": "code",
   "execution_count": 15,
   "id": "ee8f0790",
   "metadata": {},
   "outputs": [
    {
     "name": "stdout",
     "output_type": "stream",
     "text": [
      "Found 1279 images belonging to 4 classes.\n"
     ]
    }
   ],
   "source": [
    "test_dir = r'C:\\Users\\pavan\\ML Projects\\Alzheimer\\dataset\\val'\n",
    "test_datagen = ImageDataGenerator(rescale = 1./255)\n",
    "test_generator = test_datagen.flow_from_directory(\n",
    "        test_dir,\n",
    "        target_size = (256,256),\n",
    "        batch_size = 32,\n",
    "        class_mode = 'binary'\n",
    ")"
   ]
  },
  {
   "cell_type": "code",
   "execution_count": 16,
   "id": "b1f2f809",
   "metadata": {},
   "outputs": [
    {
     "name": "stdout",
     "output_type": "stream",
     "text": [
      "40/40 [==============================] - 34s 853ms/step\n",
      "Precision: 0.25734844137224183\n",
      "Recall: 0.25747788640595903\n",
      "F1 score: 0.2572939277980404\n"
     ]
    }
   ],
   "source": [
    "from sklearn.metrics import precision_score, recall_score, f1_score\n",
    "import numpy as np\n",
    "\n",
    "# Generate predictions for test set\n",
    "predictions = model.predict(test_generator)\n",
    "\n",
    "# Convert labels and predictions to binary format\n",
    "binary_test_labels = test_generator.labels\n",
    "binary_predictions = np.argmax(predictions, axis=1)\n",
    "\n",
    "# Calculate precision and recall\n",
    "precision = precision_score(binary_test_labels, binary_predictions, average='macro')\n",
    "recall = recall_score(binary_test_labels, binary_predictions, average='macro')\n",
    "f1 = f1_score(binary_test_labels, binary_predictions, average='macro')\n",
    "\n",
    "print('Precision:', precision)\n",
    "print('Recall:', recall)\n",
    "print('F1 score:', f1)"
   ]
  },
  {
   "cell_type": "code",
   "execution_count": 19,
   "id": "79c94d94",
   "metadata": {},
   "outputs": [
    {
     "data": {
      "text/plain": [
       "array([0, 0, 0, 0, 0, 0, 0, 0, 0, 0])"
      ]
     },
     "execution_count": 19,
     "metadata": {},
     "output_type": "execute_result"
    }
   ],
   "source": [
    "validation_generator.labels[:10]"
   ]
  },
  {
   "cell_type": "code",
   "execution_count": 20,
   "id": "1812a680",
   "metadata": {},
   "outputs": [
    {
     "name": "stdout",
     "output_type": "stream",
     "text": [
      "[0 1 2 3 3 2 2 3 2 0]\n"
     ]
    }
   ],
   "source": [
    "predictions\n",
    "binary_predictions = np.argmax(predictions, axis=1)\n",
    "print(binary_predictions[:10])"
   ]
  },
  {
   "cell_type": "code",
   "execution_count": null,
   "id": "f0588c7c",
   "metadata": {},
   "outputs": [],
   "source": []
  },
  {
   "cell_type": "code",
   "execution_count": null,
   "id": "8029eba7",
   "metadata": {},
   "outputs": [],
   "source": []
  },
  {
   "cell_type": "code",
   "execution_count": null,
   "id": "14f75fc3",
   "metadata": {},
   "outputs": [],
   "source": []
  }
 ],
 "metadata": {
  "kernelspec": {
   "display_name": "Python 3 (ipykernel)",
   "language": "python",
   "name": "python3"
  },
  "language_info": {
   "codemirror_mode": {
    "name": "ipython",
    "version": 3
   },
   "file_extension": ".py",
   "mimetype": "text/x-python",
   "name": "python",
   "nbconvert_exporter": "python",
   "pygments_lexer": "ipython3",
   "version": "3.9.13"
  }
 },
 "nbformat": 4,
 "nbformat_minor": 5
}
