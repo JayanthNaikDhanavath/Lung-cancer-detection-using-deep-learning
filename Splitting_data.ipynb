{
 "cells": [
  {
   "cell_type": "code",
   "execution_count": 8,
   "id": "497dca8f",
   "metadata": {},
   "outputs": [],
   "source": [
    "import os\n",
    "import random\n",
    "import shutil\n",
    "\n",
    "# Define the paths to the input and output directories\n",
    "input_dir = r'C:\\Users\\JAYANTH\\OneDrive\\Desktop\\archive (2)\\The IQ-OTHNCCD lung cancer dataset\\Normal cases'\n",
    "train_dir = r'C:\\Users\\JAYANTH\\OneDrive\\Desktop\\split_data\\Normal\\train'\n",
    "val_dir = r'C:\\Users\\JAYANTH\\OneDrive\\Desktop\\split_data\\Normal\\val'\n",
    "test_dir = r'C:\\Users\\JAYANTH\\OneDrive\\Desktop\\split_data\\Normal\\test'\n",
    "\n",
    "# Define the split ratios for training, validation, and testing\n",
    "train_split = 0.7\n",
    "val_split = 0.15\n",
    "test_split = 0.15\n",
    "\n",
    "# Create the output directories if they don't exist\n",
    "if not os.path.exists(train_dir):\n",
    "    os.makedirs(train_dir)\n",
    "if not os.path.exists(val_dir):\n",
    "    os.makedirs(val_dir)\n",
    "if not os.path.exists(test_dir):\n",
    "    os.makedirs(test_dir)\n",
    "\n",
    "# Loop through the input directory and move each file to the appropriate output directory\n",
    "for filename in os.listdir(input_dir):\n",
    "    if filename.endswith('.jpg') or filename.endswith('.png'):\n",
    "        file_path = os.path.join(input_dir, filename)\n",
    "        if random.uniform(0, 1) < train_split:\n",
    "            shutil.copy2(file_path, os.path.join(train_dir, filename))\n",
    "        elif random.uniform(0, 1) < val_split/(1 - train_split):\n",
    "            shutil.copy2(file_path, os.path.join(val_dir, filename))\n",
    "        else:\n",
    "            shutil.copy2(file_path, os.path.join(test_dir, filename))\n"
   ]
  },
  {
   "cell_type": "code",
   "execution_count": null,
   "id": "6defdc82",
   "metadata": {},
   "outputs": [],
   "source": []
  }
 ],
 "metadata": {
  "kernelspec": {
   "display_name": "Python 3 (ipykernel)",
   "language": "python",
   "name": "python3"
  },
  "language_info": {
   "codemirror_mode": {
    "name": "ipython",
    "version": 3
   },
   "file_extension": ".py",
   "mimetype": "text/x-python",
   "name": "python",
   "nbconvert_exporter": "python",
   "pygments_lexer": "ipython3",
   "version": "3.9.13"
  }
 },
 "nbformat": 4,
 "nbformat_minor": 5
}
