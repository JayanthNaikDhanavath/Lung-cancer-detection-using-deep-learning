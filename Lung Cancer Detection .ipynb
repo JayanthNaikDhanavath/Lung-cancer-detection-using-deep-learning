{
 "cells": [
  {
   "cell_type": "code",
   "execution_count": 1,
   "id": "9e6364ce",
   "metadata": {
    "scrolled": true
   },
   "outputs": [
    {
     "name": "stdout",
     "output_type": "stream",
     "text": [
      "2.10.0\n"
     ]
    }
   ],
   "source": [
    "import tensorflow as tf\n",
    "print(tf.__version__)"
   ]
  },
  {
   "cell_type": "code",
   "execution_count": 2,
   "id": "fdecc8e9",
   "metadata": {},
   "outputs": [],
   "source": [
    "train_dir = r'C:\\Users\\JAYANTH\\Lung Cancer Detection\\LungCT_dataset\\train'\n",
    "val_dir   = r'C:\\Users\\JAYANTH\\Lung Cancer Detection\\LungCT_dataset\\val' "
   ]
  },
  {
   "cell_type": "code",
   "execution_count": 3,
   "id": "049da514",
   "metadata": {},
   "outputs": [],
   "source": [
    "from tensorflow.keras.preprocessing.image import ImageDataGenerator"
   ]
  },
  {
   "cell_type": "code",
   "execution_count": 4,
   "id": "4a465e17",
   "metadata": {},
   "outputs": [],
   "source": [
    "train_datagen = ImageDataGenerator(\n",
    "    rescale = 1./255,\n",
    "    rotation_range = 20,\n",
    "    width_shift_range = 0.2,\n",
    "    height_shift_range = 0.2,\n",
    "    shear_range = 0.2,\n",
    "    zoom_range = 0.2,\n",
    "    horizontal_flip = True,\n",
    "    fill_mode = 'nearest'\n",
    ")\n",
    "\n",
    "val_datagen = ImageDataGenerator(rescale = 1./255)"
   ]
  },
  {
   "cell_type": "code",
   "execution_count": 5,
   "id": "7351a7ac",
   "metadata": {},
   "outputs": [
    {
     "name": "stdout",
     "output_type": "stream",
     "text": [
      "Found 788 images belonging to 3 classes.\n",
      "Found 162 images belonging to 3 classes.\n"
     ]
    }
   ],
   "source": [
    "train_generator = train_datagen.flow_from_directory(\n",
    "    train_dir,\n",
    "    target_size = (224,224),\n",
    "    batch_size = 32,\n",
    "    class_mode = 'categorical'\n",
    ")\n",
    "\n",
    "val_generator = val_datagen.flow_from_directory(\n",
    "    val_dir,\n",
    "    target_size = (224,224),\n",
    "    batch_size = 32,\n",
    "    class_mode = 'categorical'\n",
    ")"
   ]
  },
  {
   "cell_type": "code",
   "execution_count": 6,
   "id": "014a9cc3",
   "metadata": {},
   "outputs": [],
   "source": [
    "from tensorflow import keras\n",
    "from keras import models,layers,optimizers\n",
    "from tensorflow.keras.layers import Conv2D, MaxPooling2D, Flatten, Dense, Dropout"
   ]
  },
  {
   "cell_type": "code",
   "execution_count": 7,
   "id": "a58d1bd3",
   "metadata": {},
   "outputs": [],
   "source": [
    "model = models.Sequential()\n",
    "    \n",
    "model.add(Conv2D(32, (3, 3), activation='relu', input_shape=(224, 224, 3)))\n",
    "model.add(MaxPooling2D((2, 2)))\n",
    "model.add(Conv2D(64, (3, 3), activation='relu'))\n",
    "model.add(MaxPooling2D((2, 2)))\n",
    "model.add(Conv2D(128, (3, 3), activation='relu'))\n",
    "model.add(MaxPooling2D((2, 2)))\n",
    "model.add(Conv2D(256, (3, 3), activation='relu'))\n",
    "model.add(MaxPooling2D((2, 2)))\n",
    "model.add(Flatten())\n",
    "model.add(Dense(256, activation='relu'))\n",
    "model.add(Dropout(0.5))\n",
    "model.add(Dense(3, activation='softmax'))"
   ]
  },
  {
   "cell_type": "code",
   "execution_count": 8,
   "id": "20cd39e3",
   "metadata": {},
   "outputs": [
    {
     "name": "stdout",
     "output_type": "stream",
     "text": [
      "Model: \"sequential\"\n",
      "_________________________________________________________________\n",
      " Layer (type)                Output Shape              Param #   \n",
      "=================================================================\n",
      " conv2d (Conv2D)             (None, 222, 222, 32)      896       \n",
      "                                                                 \n",
      " max_pooling2d (MaxPooling2D  (None, 111, 111, 32)     0         \n",
      " )                                                               \n",
      "                                                                 \n",
      " conv2d_1 (Conv2D)           (None, 109, 109, 64)      18496     \n",
      "                                                                 \n",
      " max_pooling2d_1 (MaxPooling  (None, 54, 54, 64)       0         \n",
      " 2D)                                                             \n",
      "                                                                 \n",
      " conv2d_2 (Conv2D)           (None, 52, 52, 128)       73856     \n",
      "                                                                 \n",
      " max_pooling2d_2 (MaxPooling  (None, 26, 26, 128)      0         \n",
      " 2D)                                                             \n",
      "                                                                 \n",
      " conv2d_3 (Conv2D)           (None, 24, 24, 256)       295168    \n",
      "                                                                 \n",
      " max_pooling2d_3 (MaxPooling  (None, 12, 12, 256)      0         \n",
      " 2D)                                                             \n",
      "                                                                 \n",
      " flatten (Flatten)           (None, 36864)             0         \n",
      "                                                                 \n",
      " dense (Dense)               (None, 256)               9437440   \n",
      "                                                                 \n",
      " dropout (Dropout)           (None, 256)               0         \n",
      "                                                                 \n",
      " dense_1 (Dense)             (None, 3)                 771       \n",
      "                                                                 \n",
      "=================================================================\n",
      "Total params: 9,826,627\n",
      "Trainable params: 9,826,627\n",
      "Non-trainable params: 0\n",
      "_________________________________________________________________\n"
     ]
    }
   ],
   "source": [
    "model.summary()"
   ]
  },
  {
   "cell_type": "code",
   "execution_count": 9,
   "id": "2dc258d6",
   "metadata": {},
   "outputs": [],
   "source": [
    "model.compile(loss = 'categorical_crossentropy',optimizer = 'adam', metrics = ['acc'])"
   ]
  },
  {
   "cell_type": "code",
   "execution_count": 10,
   "id": "f93e2a05",
   "metadata": {},
   "outputs": [],
   "source": [
    "train_size = len(train_generator)\n",
    "val_size = len(val_generator)"
   ]
  },
  {
   "cell_type": "code",
   "execution_count": 11,
   "id": "aad06aff",
   "metadata": {},
   "outputs": [],
   "source": [
    "from sklearn.utils import class_weight\n",
    "import numpy as np\n",
    "\n",
    "class_weights = class_weight.compute_class_weight('balanced',classes =  np.unique(train_generator.labels),y =  train_generator.labels)\n",
    "class_weights_dict = dict(enumerate(class_weights))"
   ]
  },
  {
   "cell_type": "code",
   "execution_count": 12,
   "id": "47f409f7",
   "metadata": {},
   "outputs": [
    {
     "name": "stdout",
     "output_type": "stream",
     "text": [
      "Epoch 1/8\n",
      "25/25 [==============================] - 13s 263ms/step - loss: 1.3256 - acc: 0.3312 - val_loss: 1.0960 - val_acc: 0.5000\n",
      "Epoch 2/8\n",
      "25/25 [==============================] - 11s 427ms/step - loss: 1.0991 - acc: 0.3388 - val_loss: 1.0994 - val_acc: 0.0926\n",
      "Epoch 3/8\n",
      "25/25 [==============================] - 11s 431ms/step - loss: 1.0988 - acc: 0.3794 - val_loss: 1.0947 - val_acc: 0.4877\n",
      "Epoch 4/8\n",
      "25/25 [==============================] - 11s 432ms/step - loss: 1.0903 - acc: 0.4365 - val_loss: 1.0406 - val_acc: 0.4506\n",
      "Epoch 5/8\n",
      "25/25 [==============================] - 11s 440ms/step - loss: 1.0727 - acc: 0.2398 - val_loss: 1.0498 - val_acc: 0.1358\n",
      "Epoch 6/8\n",
      "25/25 [==============================] - 11s 435ms/step - loss: 1.0679 - acc: 0.1624 - val_loss: 1.0552 - val_acc: 0.1358\n",
      "Epoch 7/8\n",
      "25/25 [==============================] - 11s 432ms/step - loss: 1.0671 - acc: 0.2043 - val_loss: 1.0571 - val_acc: 0.1358\n",
      "Epoch 8/8\n",
      "25/25 [==============================] - 11s 434ms/step - loss: 1.0663 - acc: 0.1815 - val_loss: 3.7531 - val_acc: 0.4630\n"
     ]
    }
   ],
   "source": [
    "history = model.fit(\n",
    "    train_generator,\n",
    "    steps_per_epoch = train_size,\n",
    "    epochs = 8,\n",
    "    validation_data = val_generator,\n",
    "    validation_steps = val_size,\n",
    "    class_weight=class_weights_dict\n",
    ")"
   ]
  },
  {
   "cell_type": "code",
   "execution_count": 13,
   "id": "32cf7ae7",
   "metadata": {},
   "outputs": [
    {
     "name": "stdout",
     "output_type": "stream",
     "text": [
      "Found 147 images belonging to 3 classes.\n"
     ]
    }
   ],
   "source": [
    "test_dir = r'C:\\Users\\JAYANTH\\Lung Cancer Detection\\LungCT_dataset\\test'\n",
    "test_datagen = ImageDataGenerator(rescale = 1./255)\n",
    "test_generator = test_datagen.flow_from_directory(\n",
    "        test_dir,\n",
    "        target_size = (224,224),\n",
    "        batch_size = 32,\n",
    "        class_mode='binary'\n",
    ")"
   ]
  },
  {
   "cell_type": "code",
   "execution_count": 14,
   "id": "8c68bb9d",
   "metadata": {},
   "outputs": [
    {
     "name": "stdout",
     "output_type": "stream",
     "text": [
      "5/5 [==============================] - 1s 300ms/step\n",
      "Precision: 0.16576168929110105\n",
      "Recall: 0.30210060807075734\n",
      "F1 score: 0.21194102006284746\n"
     ]
    },
    {
     "name": "stderr",
     "output_type": "stream",
     "text": [
      "C:\\Users\\JAYANTH\\anaconda3\\lib\\site-packages\\sklearn\\metrics\\_classification.py:1318: UndefinedMetricWarning: Precision is ill-defined and being set to 0.0 in labels with no predicted samples. Use `zero_division` parameter to control this behavior.\n",
      "  _warn_prf(average, modifier, msg_start, len(result))\n"
     ]
    }
   ],
   "source": [
    "from sklearn.metrics import precision_score, recall_score, f1_score\n",
    "import numpy as np\n",
    "\n",
    "# Generate predictions for test set\n",
    "predictions = model.predict(test_generator)\n",
    "\n",
    "# Convert labels and predictions to binary format\n",
    "binary_test_labels = test_generator.labels\n",
    "binary_predictions = np.argmax(predictions, axis=1)\n",
    "\n",
    "# Calculate precision and recall\n",
    "precision = precision_score(binary_test_labels, binary_predictions, average='macro')\n",
    "recall = recall_score(binary_test_labels, binary_predictions, average='macro')\n",
    "f1 = f1_score(binary_test_labels, binary_predictions, average='macro')\n",
    "\n",
    "print('Precision:',precision)\n",
    "print('Recall:',recall)\n",
    "print('F1 score:',f1)"
   ]
  },
  {
   "cell_type": "code",
   "execution_count": null,
   "id": "7024b0eb",
   "metadata": {},
   "outputs": [],
   "source": []
  }
 ],
 "metadata": {
  "kernelspec": {
   "display_name": "Python 3 (ipykernel)",
   "language": "python",
   "name": "python3"
  },
  "language_info": {
   "codemirror_mode": {
    "name": "ipython",
    "version": 3
   },
   "file_extension": ".py",
   "mimetype": "text/x-python",
   "name": "python",
   "nbconvert_exporter": "python",
   "pygments_lexer": "ipython3",
   "version": "3.9.13"
  }
 },
 "nbformat": 4,
 "nbformat_minor": 5
}
